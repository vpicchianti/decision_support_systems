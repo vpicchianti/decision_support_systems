{
 "cells": [
  {
   "cell_type": "code",
   "execution_count": 1,
   "metadata": {},
   "outputs": [],
   "source": [
    "import os, csv, json\n",
    "from xml.etree import ElementTree as ET"
   ]
  },
  {
   "cell_type": "code",
   "execution_count": 2,
   "metadata": {},
   "outputs": [],
   "source": [
    "def search_table(row, table, has_id):\n",
    "    if has_id: #if the row in the table has a given id, check only if the id is already present\n",
    "        if table.get(row[0]) != None:\n",
    "            return int(row[0])\n",
    "        else:\n",
    "            return -1\n",
    "\n",
    "    #otherwise search all the elements, if the same row is in the table, then we do not insert\n",
    "    for key, value in table.items():\n",
    "        if row == value:\n",
    "            return int(key)\n",
    "    \n",
    "    return -1"
   ]
  },
  {
   "cell_type": "code",
   "execution_count": 3,
   "metadata": {},
   "outputs": [],
   "source": [
    "def insertRow(row, table, has_id):\n",
    "    if not table: #check if is void\n",
    "        # if not void, use the row with id if it's given, otherwise create a counter\n",
    "        if not has_id:\n",
    "            table[1] = row\n",
    "        else:\n",
    "            table[row[0]] = row[1:]\n",
    "        return 1\n",
    "    \n",
    "    # not void\n",
    "    found = search_table(row, table, has_id)\n",
    "    if found >= 0: #if element already in the table, return its id\n",
    "        return found\n",
    "    # use the id in the row if present, otherwise increment the counter (last insert + 1)\n",
    "    if not has_id:\n",
    "        new_id = list(table.keys())[-1] + 1\n",
    "        table[new_id] = row\n",
    "        return new_id\n",
    "    \n",
    "    table[row[0]] = row[1:]\n",
    "    return row[0]"
   ]
  },
  {
   "cell_type": "code",
   "execution_count": 4,
   "metadata": {},
   "outputs": [],
   "source": [
    "#come detto da Vale\n",
    "def insertGeo(row, table):\n",
    "    id = str(row[0])+str(row[1])\n",
    "    if not table: # check if is void\n",
    "        table[id] = row\n",
    "        #unique_locations.add(tuple(row))\n",
    "        return id\n",
    "    \n",
    "    # not void\n",
    "    if table.get(id) != None: #if element already in the table, return its id\n",
    "        return id\n",
    "    # use the id in the row if present, otherwise increment the counter (last insert + 1) \n",
    "    table[id] = row\n",
    "    return id"
   ]
  },
  {
   "cell_type": "code",
   "execution_count": 6,
   "metadata": {},
   "outputs": [],
   "source": [
    "def split_Police(row, custody, gun, geography, partecipant, incident, date, age_dict, type_dict, status_dict):\n",
    "    # use different list to compute the rows of the different tables\n",
    "    cus_row = []\n",
    "    gun_row = []\n",
    "    geo_row = []\n",
    "    part_row = []\n",
    "    date_row = []\n",
    "    \n",
    "\n",
    "    #split different values based on the tables\n",
    "    for key, value in row.items():\n",
    "        if key == 'custody_id':\n",
    "            cus_row.append(value)\n",
    "        elif key == 'participant_age_group' or key == 'participant_gender' or key == 'participant_status' or key == 'participant_type':\n",
    "            part_row.append(value)\n",
    "        elif key == 'latitude' or key == 'longitude':\n",
    "            geo_row.append(float(value))\n",
    "        elif key == 'gun_stolen' or key == 'gun_type':\n",
    "            gun_row.append(value)\n",
    "        elif key == 'incident_id':\n",
    "            incident_id  = int(value)\n",
    "        elif key == 'date_fk':\n",
    "            date_row.append(int(value))\n",
    "        else:\n",
    "            print('key not recognized')\n",
    "\n",
    "\n",
    "    crime_gravity = age_dict[part_row[0]] * type_dict[part_row[3]] * status_dict[part_row[2]]\n",
    "    id_part = insertRow(part_row, partecipant, False)\n",
    "    id_gun = insertRow(gun_row, gun, False)\n",
    "    incident.add(incident_id)\n",
    "    id_geo = insertGeo(geo_row, geography)\n",
    "    id_date = insertRow(date_row, date, True)\n",
    "    cus_row = cus_row + [id_part] + [id_gun] + [id_geo] + [id_date] + [incident_id] + [crime_gravity]\n",
    "    #cus_row = cus_row + [id_part] + [id_gun] + [id_date] + [incident_id] + [crime_gravity]\n",
    "    custody.append(cus_row)\n",
    "\n"
   ]
  },
  {
   "cell_type": "code",
   "execution_count": 7,
   "metadata": {},
   "outputs": [],
   "source": [
    "#create list version of the tables\n",
    "custody = list()\n",
    "gun = dict()\n",
    "geography = dict()\n",
    "partecipant = dict()\n",
    "incident = set() #since incident has only the id (integer) use a set to speed up\n",
    "date = dict()\n",
    "i = 0\n",
    "\n",
    "#retrieve transformation to compute the crime score\n",
    "with open('dict_partecipant_age.json') as d1:\n",
    "    age_fun = json.load(d1)\n",
    "with open('dict_partecipant_type.json') as d2:\n",
    "    type_fun = json.load(d2)\n",
    "with open('dict_partecipant_status.json') as d3:\n",
    "    status_fun = json.load(d3)\n",
    "\n",
    "#read line by line the file\n",
    "with open('Police.csv') as f1:\n",
    "    police = csv.DictReader(f1)\n",
    "    for row in police:\n",
    "        i += 1\n",
    "        #print(row)\n",
    "        split_Police(row, custody, gun, geography, partecipant, incident, date, age_fun, type_fun, status_fun)\n",
    "        "
   ]
  },
  {
   "cell_type": "code",
   "execution_count": 52,
   "metadata": {},
   "outputs": [],
   "source": [
    "#open xml file\n",
    "tree = ET.parse(os.getcwd()+'/lds_project_2023/dates.xml')\n",
    "root = tree.getroot()\n",
    "\n",
    "#create dictionary where the keys the primary keys of the table, the values are the dates\n",
    "date_info = {}\n",
    "for row in root:\n",
    "    date_info[row.findtext('date_pk')] = row.findtext('date')\n",
    "\n",
    "#update the date table\n",
    "for key, value in date_info.items():\n",
    "    date[int(key)] = value"
   ]
  },
  {
   "cell_type": "markdown",
   "metadata": {},
   "source": [
    "170 928"
   ]
  }
 ],
 "metadata": {
  "kernelspec": {
   "display_name": "Python 3",
   "language": "python",
   "name": "python3"
  },
  "language_info": {
   "codemirror_mode": {
    "name": "ipython",
    "version": 3
   },
   "file_extension": ".py",
   "mimetype": "text/x-python",
   "name": "python",
   "nbconvert_exporter": "python",
   "pygments_lexer": "ipython3",
   "version": "3.10.13"
  }
 },
 "nbformat": 4,
 "nbformat_minor": 2
}
